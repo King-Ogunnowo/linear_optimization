{
 "cells": [
  {
   "cell_type": "code",
   "execution_count": 1,
   "id": "aec49f67-ecf0-4021-bf1d-cb6c5e514cd5",
   "metadata": {},
   "outputs": [
    {
     "name": "stdout",
     "output_type": "stream",
     "text": [
      "Collecting pulp==2.1\n",
      "  Downloading PuLP-2.1-py3-none-any.whl (40.6 MB)\n",
      "\u001b[2K     \u001b[90m━━━━━━━━━━━━━━━━━━━━━━━━━━━━━━━━━━━━━━━━\u001b[0m \u001b[32m40.6/40.6 MB\u001b[0m \u001b[31m49.6 MB/s\u001b[0m eta \u001b[36m0:00:00\u001b[0m00:01\u001b[0m00:01\u001b[0m\n",
      "\u001b[?25hRequirement already satisfied: pyparsing>=2.0.1 in /Users/terra-admin/miniforge3/lib/python3.10/site-packages (from pulp==2.1) (3.1.1)\n",
      "Installing collected packages: pulp\n",
      "Successfully installed pulp-2.1\n"
     ]
    }
   ],
   "source": [
    "!pip install -U \"pulp==2.1\""
   ]
  },
  {
   "cell_type": "code",
   "execution_count": 2,
   "id": "f1e867da-1f52-4bf6-a5f1-24363b7a4d01",
   "metadata": {},
   "outputs": [
    {
     "name": "stdout",
     "output_type": "stream",
     "text": [
      "Solver <class 'pulp.apis.coin_api.PULP_CBC_CMD'> available\n",
      "Solver <class 'pulp.apis.cplex_api.CPLEX_DLL'> unavailable\n",
      "Solver <class 'pulp.apis.cplex_api.CPLEX_CMD'> unavailable\n",
      "Solver <class 'pulp.apis.cplex_api.CPLEX_PY'> unavailable\n",
      "Solver <class 'pulp.apis.coin_api.COIN_CMD'> unavailable\n",
      "Solver <class 'pulp.apis.coin_api.COINMP_DLL'> unavailable\n",
      "Solver <class 'pulp.apis.glpk_api.GLPK_CMD'> unavailable\n",
      "Solver <class 'pulp.apis.xpress_api.XPRESS'> unavailable\n",
      "Solver <class 'pulp.apis.gurobi_api.GUROBI'> unavailable\n",
      "Solver <class 'pulp.apis.gurobi_api.GUROBI_CMD'> unavailable\n",
      "Solver <class 'pulp.apis.glpk_api.PYGLPK'> unavailable\n",
      "Solver <class 'pulp.apis.coin_api.YAPOSIB'> unavailable\n",
      "Solver <class 'pulp.apis.choco_api.PULP_CHOCO_CMD'> available\n",
      "Solver <class 'pulp.apis.mipcl_api.MIPCL_CMD'> unavailable\n",
      "Solver <class 'pulp.apis.mosek_api.MOSEK'> unavailable\n",
      "\t Testing zero subtraction\n",
      ".\t Testing inconsistant lp solution\n",
      ".\t Testing continuous LP solution\n",
      ".\t Testing maximize continuous LP solution\n",
      ".\t Testing unbounded continuous LP solution\n",
      ".\t Testing Long Names\n",
      ".\t Testing repeated Names\n",
      ".\t Testing zero constraint\n",
      ".\t Testing zero objective\n",
      ".\t Testing LpVariable (not LpAffineExpression) objective\n",
      ".\t Testing Long lines in LP\n",
      ".\t Testing LpAffineExpression divide\n",
      ".\t Testing MIP solution\n",
      ".\t Testing MIP solution with floats in objective\n",
      ".\t Testing MIP relaxation\n",
      ".\t Testing feasibility problem (no objective)\n",
      ".\t Testing an infeasible problem\n",
      ".\t Testing an integer infeasible problem\n",
      ".\t Testing column based modelling\n",
      "..\t Testing dual variables and slacks reporting\n",
      "...\t Testing fractional constraints\n",
      ".\t Testing elastic constraints (no change)\n",
      ".\t Testing elastic constraints (freebound)\n",
      ".\t Testing elastic constraints (penalty unchanged)\n",
      ".\t Testing elastic constraints (penalty unbounded)\n",
      ".\t Testing zero subtraction\n",
      ".\t Testing inconsistant lp solution\n",
      ".\t Testing continuous LP solution\n",
      ".\t Testing maximize continuous LP solution\n",
      ".\t Testing unbounded continuous LP solution\n",
      ".\t Testing Long Names\n",
      ".\t Testing repeated Names\n",
      ".\t Testing zero constraint\n",
      ".\t Testing zero objective\n",
      ".\t Testing LpVariable (not LpAffineExpression) objective\n",
      "..\t Testing LpAffineExpression divide\n",
      ".\t Testing MIP solution\n",
      ".\t Testing MIP solution with floats in objective\n",
      ".\t Testing MIP relaxation\n",
      "/Users/terra-admin/miniforge3/lib/python3.10/site-packages/pulp/apis/choco_api.py:78: UserWarning: CHOCO_CMD cannot solve the relaxation of a problem\n",
      "  warnings.warn(\"CHOCO_CMD cannot solve the relaxation of a problem\")\n",
      ".\t Testing feasibility problem (no objective)\n",
      ".\t Testing an infeasible problem\n",
      ".\t Testing an integer infeasible problem\n",
      ".\t Testing column based modelling\n",
      ".....\t Testing fractional constraints\n",
      ".\t Testing elastic constraints (no change)\n",
      ".\t Testing elastic constraints (freebound)\n",
      ".\t Testing elastic constraints (penalty unchanged)\n",
      ".\t Testing elastic constraints (penalty unbounded)\n",
      "..................{'a': 53.0, 'b': 45.3, 'c': 459.2}\n",
      "..........................\n",
      "----------------------------------------------------------------------\n",
      "Ran 99 tests in 20.580s\n",
      "\n",
      "OK\n"
     ]
    }
   ],
   "source": [
    "!pulptest"
   ]
  },
  {
   "cell_type": "code",
   "execution_count": 9,
   "id": "0bccb7c5-cea0-47e2-9b16-98683055d494",
   "metadata": {},
   "outputs": [],
   "source": [
    "from pulp import LpMaximize, LpStatus, LpSolver, LpVariable, LpProblem"
   ]
  },
  {
   "cell_type": "code",
   "execution_count": 8,
   "id": "9cfcd3ad-de5a-49b4-ae1d-c11f710e7216",
   "metadata": {},
   "outputs": [],
   "source": [
    "%%capture\n",
    "\n",
    "\"\"\"\n",
    "maximize: z = x + 2y\n",
    "\n",
    "subject to:\n",
    "            2x + y <= 20\n",
    "            -4x + 5y <= 10\n",
    "            -x + 2y >= -2\n",
    "            -x + 5y >= 15\n",
    "            x >= 0\n",
    "            y >= 0\n",
    "\"\"\""
   ]
  },
  {
   "cell_type": "code",
   "execution_count": 10,
   "id": "fdd312c6-7f7b-4032-8874-2accce95ee34",
   "metadata": {},
   "outputs": [],
   "source": [
    "model = LpProblem(name = 'small-problem', sense = LpMaximize)"
   ]
  },
  {
   "cell_type": "code",
   "execution_count": 12,
   "id": "4b48f2e6-50d6-4d89-b8df-ffc04a1bb5d0",
   "metadata": {},
   "outputs": [],
   "source": [
    "x = LpVariable(name = \"x\", lowBound = 0)\n",
    "y = LpVariable(name = \"y\", lowBound = 0)"
   ]
  },
  {
   "cell_type": "code",
   "execution_count": 16,
   "id": "d97e94b0-e0fa-49ef-ba9e-847e50699258",
   "metadata": {},
   "outputs": [],
   "source": [
    "model += (2 * x + y <= 20, \"red_constraint\")\n",
    "model += (4 * x - 5 * y <= -10, \"blue_constraint\")\n",
    "model += (-x + 2 * y >= -2, \"yellow_constraint\")\n",
    "model += (-x + 5 * y >= 15, \"green_constraint\")"
   ]
  },
  {
   "cell_type": "code",
   "execution_count": 18,
   "id": "d6c4cd90-b08c-412c-83cb-acbf6aabd69d",
   "metadata": {},
   "outputs": [],
   "source": [
    "model += 2 * x + y"
   ]
  },
  {
   "cell_type": "code",
   "execution_count": 19,
   "id": "64616e24-dc2a-49d0-83d8-06d55ea6a5c0",
   "metadata": {},
   "outputs": [
    {
     "data": {
      "text/plain": [
       "small-problem:\n",
       "MAXIMIZE\n",
       "2*x + 1*y + 0\n",
       "SUBJECT TO\n",
       "red_constraint: 2 x + y <= 20\n",
       "\n",
       "blue_constraint: 4 x - 5 y <= -10\n",
       "\n",
       "yellow_constraint: - x + 2 y >= -2\n",
       "\n",
       "green_constraint: - x + 5 y >= 15\n",
       "\n",
       "VARIABLES\n",
       "x Continuous\n",
       "y Continuous"
      ]
     },
     "execution_count": 19,
     "metadata": {},
     "output_type": "execute_result"
    }
   ],
   "source": [
    "model"
   ]
  },
  {
   "cell_type": "code",
   "execution_count": 20,
   "id": "3a1efb0b-29cd-49f3-ac78-8c71dcb65478",
   "metadata": {},
   "outputs": [
    {
     "data": {
      "text/plain": [
       "1"
      ]
     },
     "execution_count": 20,
     "metadata": {},
     "output_type": "execute_result"
    }
   ],
   "source": [
    "model.solve()"
   ]
  },
  {
   "cell_type": "code",
   "execution_count": 21,
   "id": "52861f7f-5dc3-44ee-8abf-1d4ceee338c6",
   "metadata": {},
   "outputs": [
    {
     "data": {
      "text/plain": [
       "'Optimal'"
      ]
     },
     "execution_count": 21,
     "metadata": {},
     "output_type": "execute_result"
    }
   ],
   "source": [
    "LpStatus[model.status]"
   ]
  },
  {
   "cell_type": "code",
   "execution_count": 23,
   "id": "8cc25a3a-3d02-4a11-ae71-36e28306b49b",
   "metadata": {},
   "outputs": [
    {
     "data": {
      "text/plain": [
       "19.9999999"
      ]
     },
     "execution_count": 23,
     "metadata": {},
     "output_type": "execute_result"
    }
   ],
   "source": [
    "model.objective.value()"
   ]
  },
  {
   "cell_type": "code",
   "execution_count": 27,
   "id": "7f5667c7-e82c-4a6d-ae10-67f921636693",
   "metadata": {},
   "outputs": [
    {
     "name": "stdout",
     "output_type": "stream",
     "text": [
      "x: 6.4285714\n",
      "y: 7.1428571\n"
     ]
    }
   ],
   "source": [
    "for var in model.variables():\n",
    "    print(f\"{var.name}: {var.value()}\")"
   ]
  },
  {
   "cell_type": "code",
   "execution_count": 28,
   "id": "31cd6a6d-786d-483c-b819-541c36338591",
   "metadata": {},
   "outputs": [
    {
     "name": "stdout",
     "output_type": "stream",
     "text": [
      "red_constraint: -1.0000000028043132e-07\n",
      "blue_constraint: 1.0000000116860974e-07\n",
      "yellow_constraint: 9.857142799999998\n",
      "green_constraint: 14.285714099999996\n"
     ]
    }
   ],
   "source": [
    "for name, constraint in model.constraints.items():\n",
    "    print(f\"{name}: {constraint.value()}\")"
   ]
  },
  {
   "cell_type": "code",
   "execution_count": null,
   "id": "c19fb6a3-d2aa-4f2a-a239-b71120454b44",
   "metadata": {},
   "outputs": [],
   "source": []
  }
 ],
 "metadata": {
  "kernelspec": {
   "display_name": "Python 3 (ipykernel)",
   "language": "python",
   "name": "python3"
  },
  "language_info": {
   "codemirror_mode": {
    "name": "ipython",
    "version": 3
   },
   "file_extension": ".py",
   "mimetype": "text/x-python",
   "name": "python",
   "nbconvert_exporter": "python",
   "pygments_lexer": "ipython3",
   "version": "3.10.10"
  }
 },
 "nbformat": 4,
 "nbformat_minor": 5
}
